{
 "cells": [
  {
   "cell_type": "markdown",
   "id": "cbcbc433",
   "metadata": {},
   "source": [
    "#Задание 1\n",
    "#Импортируйте библиотеку Numpy и дайте ей псевдоним np.\n",
    " #Создайте массив Numpy под названием a размером 5x2, то есть состоящий из 5 строк и 2 столбцов. \n",
    "#Первый столбец должен содержать числа 1, 2, 3, 3, 1, а второй - числа 6, 8, 11, 10, 7. \n",
    " #Будем считать, что каждый столбец - это признак, а строка - наблюдение. \n",
    " #Затем найдите среднее значение по каждому признаку, используя метод mean массива Numpy. \n",
    " #Результат запишите в массив mean_a, в нем должно быть 2 элемента."
   ]
  },
  {
   "cell_type": "code",
   "execution_count": 2,
   "id": "4eff160e",
   "metadata": {},
   "outputs": [
    {
     "name": "stdout",
     "output_type": "stream",
     "text": [
      "[2.  8.4]\n"
     ]
    }
   ],
   "source": [
    "import numpy as np\n",
    "a = np.array([[1, 6],\n",
    "             [2, 8],\n",
    "             [3, 11],\n",
    "             [3, 10],\n",
    "             [1, 7]])\n",
    "mean_a = a.mean(axis=0)\n",
    "print(mean_a)"
   ]
  },
  {
   "cell_type": "code",
   "execution_count": 3,
   "id": "d707c566",
   "metadata": {},
   "outputs": [
    {
     "name": "stdout",
     "output_type": "stream",
     "text": [
      "[[ 1  2  3  3  1]\n",
      " [ 6  8 11 10  7]]\n",
      "[2.  8.4]\n"
     ]
    }
   ],
   "source": [
    "a = np.array([[1, 2, 3, 3, 1], [6, 8, 11, 10, 7]], dtype=int)\n",
    "print(a)\n",
    "mean_a = a.mean(axis=1)\n",
    "print(mean_a)"
   ]
  },
  {
   "cell_type": "markdown",
   "id": "044a52d0",
   "metadata": {},
   "source": [
    "#Задание 2\n",
    " #Вычислите массив a_centered, отняв от значений массива “а” средние значения соответствующих признаков, \n",
    " #содержащиеся в массиве mean_a. Вычисление должно производиться в одно действие. \n",
    " #Получившийся массив должен иметь размер 5x2."
   ]
  },
  {
   "cell_type": "code",
   "execution_count": 4,
   "id": "921b9a4e",
   "metadata": {},
   "outputs": [
    {
     "name": "stdout",
     "output_type": "stream",
     "text": [
      "[[-1.  -2.4]\n",
      " [ 0.  -0.4]\n",
      " [ 1.   2.6]\n",
      " [ 1.   1.6]\n",
      " [-1.  -1.4]]\n"
     ]
    }
   ],
   "source": [
    "import numpy as np\n",
    "a = np.array([[1, 6],\n",
    "             [2, 8],\n",
    "             [3, 11],\n",
    "             [3, 10],\n",
    "             [1, 7]])\n",
    "mean_a = a.mean(axis=0)\n",
    "a_centered = a - mean_a\n",
    "print(a_centered)"
   ]
  },
  {
   "cell_type": "markdown",
   "id": "4cb88f2d",
   "metadata": {},
   "source": [
    "#Задание 3\n",
    " #Найдите скалярное произведение столбцов массива a_centered. \n",
    "#В результате должна получиться величина a_centered_sp. \n",
    " #Затем поделите a_centered_sp на N-1, где N - число наблюдений."
   ]
  },
  {
   "cell_type": "code",
   "execution_count": 5,
   "id": "1d62152a",
   "metadata": {},
   "outputs": [
    {
     "name": "stdout",
     "output_type": "stream",
     "text": [
      "8.0\n",
      "2.0\n"
     ]
    }
   ],
   "source": [
    "a_centered_sp = a_centered.T[0] @ a_centered.T[1]\n",
    "print(a_centered_sp)\n",
    "print(a_centered_sp / (a_centered.shape[0] - 1))"
   ]
  },
  {
   "cell_type": "markdown",
   "id": "0df48fac",
   "metadata": {},
   "source": [
    "Задание 4**\n",
    "#Число, которое мы получили в конце задания 3 является ковариацией двух признаков, содержащихся в массиве “а”. \n",
    "#В задании 4 мы делили сумму произведений центрированных признаков на N-1, а не на N, \n",
    "#поэтому полученная нами величина является несмещенной оценкой ковариации.\n",
    "#Подробнее узнать о ковариации можно здесь:\n",
    "#В этом задании проверьте получившееся число, вычислив ковариацию еще одним способом - с помощью функции np.cov. \n",
    "#В качестве аргумента m функция np.cov должна принимать транспонированный массив “a”. \n",
    "#В получившейся ковариационной матрице (массив Numpy размером 2x2) искомое значение ковариации\n",
    "#будет равно элементу в строке с индексом 0 и столбце с индексом 1."
   ]
  },
  {
   "cell_type": "code",
   "execution_count": 7,
   "id": "4e43d2ed",
   "metadata": {},
   "outputs": [
    {
     "name": "stdout",
     "output_type": "stream",
     "text": [
      "2.0\n"
     ]
    }
   ],
   "source": [
    "print(np.cov(a.T)[0, 1])"
   ]
  },
  {
   "cell_type": "markdown",
   "id": "13eded8d",
   "metadata": {},
   "source": [
    "#Тема “Работа с данными в Pandas”\n",
    "#Задание 1\n",
    "#Импортируйте библиотеку Pandas и дайте ей псевдоним pd. \n",
    "#Создайте датафрейм authors со столбцами author_id и author_name, в которых соответственно содержатся данные: [1, 2, 3] \n",
    "#и ['Тургенев', 'Чехов', 'Островский'].\n",
    "#Затем создайте датафрейм book cо столбцами author_id, book_title и price, в которых соответственно содержатся данные:  \n",
    "#[1, 1, 1, 2, 2, 3, 3],\n",
    "#['Отцы и дети', 'Рудин', 'Дворянское гнездо', 'Толстый и тонкий', 'Дама с собачкой', 'Гроза', 'Таланты и поклонники'],\n",
    "#[450, 300, 350, 500, 450, 370, 290]."
   ]
  },
  {
   "cell_type": "code",
   "execution_count": 10,
   "id": "a3778757",
   "metadata": {},
   "outputs": [
    {
     "name": "stdout",
     "output_type": "stream",
     "text": [
      "   author_id author_name\n",
      "0          1    Тургенев\n",
      "1          2       Чехов\n",
      "2          3  Островский\n",
      "   author_id            book_title  price\n",
      "0          1           Отцы и дети    450\n",
      "1          1                 Рудин    300\n",
      "2          1     Дворянское гнездо    350\n",
      "3          2      Толстый и тонкий    500\n",
      "4          2       Дама с собачкой    450\n",
      "5          3                 Гроза    370\n",
      "6          3  Таланты и поклонники    290\n"
     ]
    }
   ],
   "source": [
    "import pandas as pd\n",
    "\n",
    "authors = pd.DataFrame({'author_id':[1, 2, 3],\n",
    "                     'author_name':['Тургенев', 'Чехов', 'Островский']})\n",
    "print(authors)\n",
    "\n",
    "\n",
    "book = pd.DataFrame({'author_id':[1, 1, 1, 2, 2, 3, 3],\n",
    "                     'book_title':['Отцы и дети', 'Рудин', 'Дворянское гнездо', 'Толстый и тонкий', 'Дама с собачкой', 'Гроза', 'Таланты и поклонники'],\n",
    "                     'price':[450, 300, 350, 500, 450, 370, 290]})\n",
    "print(book)"
   ]
  },
  {
   "cell_type": "markdown",
   "id": "18d5e0f7",
   "metadata": {},
   "source": [
    "#Задание 2\n",
    "#Получите датафрейм authors_price, соединив датафреймы authors и books по полю aut"
   ]
  },
  {
   "cell_type": "code",
   "execution_count": 11,
   "id": "90b00a4a",
   "metadata": {},
   "outputs": [
    {
     "name": "stdout",
     "output_type": "stream",
     "text": [
      "   author_id            book_title  price author_name\n",
      "0          1           Отцы и дети    450    Тургенев\n",
      "1          1                 Рудин    300    Тургенев\n",
      "2          1     Дворянское гнездо    350    Тургенев\n",
      "3          2      Толстый и тонкий    500       Чехов\n",
      "4          2       Дама с собачкой    450       Чехов\n",
      "5          3                 Гроза    370  Островский\n",
      "6          3  Таланты и поклонники    290  Островский\n"
     ]
    }
   ],
   "source": [
    "authors_price = book.merge(authors, left_on='author_id', right_on='author_id', how='left')\n",
    "print(authors_price)"
   ]
  },
  {
   "cell_type": "markdown",
   "id": "83707f2d",
   "metadata": {},
   "source": [
    "#Задание 3\n",
    "#Создайте датафрейм top5, в котором содержатся строки из authors_price с пятью самыми дорогими книгами"
   ]
  },
  {
   "cell_type": "code",
   "execution_count": 12,
   "id": "b1a66bef",
   "metadata": {},
   "outputs": [
    {
     "name": "stdout",
     "output_type": "stream",
     "text": [
      "   author_id         book_title  price author_name\n",
      "3          2   Толстый и тонкий    500       Чехов\n",
      "0          1        Отцы и дети    450    Тургенев\n",
      "4          2    Дама с собачкой    450       Чехов\n",
      "5          3              Гроза    370  Островский\n",
      "2          1  Дворянское гнездо    350    Тургенев\n"
     ]
    }
   ],
   "source": [
    "top5 = authors_price.nlargest(5, 'price')\n",
    "print(top5)\n"
   ]
  },
  {
   "cell_type": "markdown",
   "id": "ed50d8f1",
   "metadata": {},
   "source": [
    "#Задание 4\n",
    "#Создайте датафрейм authors_stat на основе информации из authors_price. В датафрейме authors_stat должны быть четыре столбца:\n",
    "#author_name, min_price, max_price и mean_price,\n",
    "#в которых должны содержаться соответственно имя автора, минимальная, максимальная и средняя цена на книги этого автора."
   ]
  },
  {
   "cell_type": "code",
   "execution_count": 13,
   "id": "20a54318",
   "metadata": {},
   "outputs": [
    {
     "name": "stdout",
     "output_type": "stream",
     "text": [
      "  author_name min_price max_price  mean_price\n",
      "0    Тургенев       300       450  366.666667\n",
      "1  Островский       290       370       330.0\n",
      "2       Чехов       450       500       475.0\n"
     ]
    }
   ],
   "source": [
    "authors_stat = pd.DataFrame(columns = ['author_name', 'min_price', 'max_price', 'mean_price'])\n",
    "authors_stat['author_name'] = list(set(authors_price['author_name']))\n",
    "\n",
    "for i in range(len(authors_stat)):\n",
    "    ds = authors_price[authors_price['author_name'] == authors_stat.loc[i,'author_name'] ]\n",
    "    authors_stat.loc[i, 'min_price']  = np.min(ds['price'])\n",
    "    authors_stat.loc[i, 'max_price']  = np.max(ds['price'])\n",
    "    authors_stat.loc[i, 'mean_price']  = np.mean(ds['price'])\n",
    "print(authors_stat)\n"
   ]
  },
  {
   "cell_type": "code",
   "execution_count": 14,
   "id": "caa7f01a",
   "metadata": {},
   "outputs": [
    {
     "name": "stdout",
     "output_type": "stream",
     "text": [
      "Тургенев      3\n",
      "Чехов         2\n",
      "Островский    2\n",
      "Name: author_name, dtype: int64\n",
      "                price                      \n",
      "            min_price max_price  mean_price\n",
      "author_name                                \n",
      "Островский        290       370  330.000000\n",
      "Тургенев          300       450  366.666667\n",
      "Чехов             450       500  475.000000\n"
     ]
    }
   ],
   "source": [
    "authors_stat = authors_price['author_name'].value_counts()\n",
    "print(authors_stat)\n",
    "\n",
    "authors_stat = authors_price.groupby('author_name').agg({'price':['min', 'max', 'mean']})\n",
    "authors_stat = authors_stat.rename(columns={'min':'min_price', 'max':'max_price', 'mean':'mean_price'})\n",
    "print(authors_stat)"
   ]
  },
  {
   "cell_type": "markdown",
   "id": "2567d642",
   "metadata": {},
   "source": [
    "#Задание 5**\n",
    "#Создайте новый столбец в датафрейме authors_price под названием cover, в нем будут располагаться данные о том, \n",
    "#какая обложка у данной книги - твердая или мягкая. В этот столбец поместите данные из следующего списка:\n",
    "#['твердая', 'мягкая', 'мягкая', 'твердая', 'твердая', 'мягкая', 'мягкая'].\n",
    "#Просмотрите документацию по функции pd.pivot_table с помощью вопросительного знака.\n",
    "#Для каждого автора посчитайте суммарную стоимость книг в твердой и мягкой обложке. \n",
    "#Используйте для этого функцию pd.pivot_table. При этом столбцы должны называться \"твердая\" и \"мягкая\", \n",
    "#а индексами должны быть фамилии авторов. Пропущенные значения стоимостей заполните нулями, при необходимости \n",
    "#загрузите библиотеку Numpy.\n",
    "#Назовите полученный датасет book_info и сохраните его в формат pickle под названием \"book_info.pkl\". \n",
    "#Затем загрузите из этого файла датафрейм и назовите его book_info2. Удостоверьтесь, что датафреймы book_info \n",
    "#и book_info2 идентичны."
   ]
  },
  {
   "cell_type": "code",
   "execution_count": 15,
   "id": "f8251c16",
   "metadata": {},
   "outputs": [
    {
     "name": "stdout",
     "output_type": "stream",
     "text": [
      "   author_id            book_title  price author_name    cover\n",
      "0          1           Отцы и дети    450    Тургенев  твердая\n",
      "1          1                 Рудин    300    Тургенев   мягкая\n",
      "2          1     Дворянское гнездо    350    Тургенев   мягкая\n",
      "3          2      Толстый и тонкий    500       Чехов  твердая\n",
      "4          2       Дама с собачкой    450       Чехов  твердая\n",
      "5          3                 Гроза    370  Островский   мягкая\n",
      "6          3  Таланты и поклонники    290  Островский   мягкая\n",
      "Index(['author_name', 'мягкая', 'твердая'], dtype='object', name='cover')\n"
     ]
    },
    {
     "data": {
      "text/plain": [
       "True"
      ]
     },
     "execution_count": 15,
     "metadata": {},
     "output_type": "execute_result"
    }
   ],
   "source": [
    "authors_price['cover'] = ['твердая', 'мягкая', 'мягкая', 'твердая', 'твердая', 'мягкая', 'мягкая']\n",
    "print(authors_price)\n",
    "\n",
    "book_info = pd.pivot_table(authors_price, values='price', index=['author_name'], columns=['cover'], aggfunc=np.sum)\n",
    "book_info.fillna(0, inplace=True)\n",
    "book_info = book_info.reset_index().rename({'index':'index1'}, axis = 'columns')\n",
    "book_info = book_info.rename_axis('writer').reset_index(drop=True)\n",
    "#book_info = book_info.reset_index(level=0, inplace=True,  drop=True)\n",
    "\n",
    "print(book_info.columns)\n",
    "\n",
    "\n",
    "\n",
    "book_info.to_pickle('book_info.pkl')\n",
    "\n",
    "book_info2 = pd.read_pickle('book_info.pkl')\n",
    "\n",
    "book_info.equals(book_info2)\n"
   ]
  },
  {
   "cell_type": "code",
   "execution_count": null,
   "id": "d3c66900",
   "metadata": {},
   "outputs": [],
   "source": []
  }
 ],
 "metadata": {
  "kernelspec": {
   "display_name": "Python 3 (ipykernel)",
   "language": "python",
   "name": "python3"
  },
  "language_info": {
   "codemirror_mode": {
    "name": "ipython",
    "version": 3
   },
   "file_extension": ".py",
   "mimetype": "text/x-python",
   "name": "python",
   "nbconvert_exporter": "python",
   "pygments_lexer": "ipython3",
   "version": "3.9.7"
  }
 },
 "nbformat": 4,
 "nbformat_minor": 5
}
